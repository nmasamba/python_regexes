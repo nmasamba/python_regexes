{
 "cells": [
  {
   "cell_type": "code",
   "execution_count": 1,
   "metadata": {},
   "outputs": [],
   "source": [
    "\n",
    "import re"
   ]
  },
  {
   "cell_type": "code",
   "execution_count": 5,
   "metadata": {},
   "outputs": [
    {
     "data": {
      "text/plain": [
       "['12/02/2018']"
      ]
     },
     "execution_count": 5,
     "metadata": {},
     "output_type": "execute_result"
    }
   ],
   "source": [
    "\n",
    "# re.MULTILINE or re.M\n",
    "# multiline changes the behaviour of associated operations to capture a pattern across all lines\n",
    "\n",
    "# see below, without newline the 13/02/2018 date cannot be captured\n",
    "pattern = re.compile(r'^\\w+\\: (\\w+/\\w+/\\w+)')\n",
    "pattern.findall('date: 12/02/2018 \\ndate: 13/02/2018')"
   ]
  },
  {
   "cell_type": "code",
   "execution_count": 6,
   "metadata": {},
   "outputs": [
    {
     "data": {
      "text/plain": [
       "['12/02/2018', '13/02/2018']"
      ]
     },
     "execution_count": 6,
     "metadata": {},
     "output_type": "execute_result"
    }
   ],
   "source": [
    "\n",
    "# with multiline\n",
    "pattern = re.compile(r'^\\w+\\: (\\w+/\\w+/\\w+)', re.MULTILINE)\n",
    "pattern.findall('date: 12/02/2018 \\ndate: 13/02/2018')"
   ]
  },
  {
   "cell_type": "code",
   "execution_count": 7,
   "metadata": {},
   "outputs": [
    {
     "data": {
      "text/plain": [
       "['12/02/2018', '13/02/2018']"
      ]
     },
     "execution_count": 7,
     "metadata": {},
     "output_type": "execute_result"
    }
   ],
   "source": [
    "\n",
    "# a different version of multiline\n",
    "pattern = re.compile(r'(?m)^\\w+\\: (\\w+/\\w+/\\w+)')\n",
    "pattern.findall('date: 12/02/2018 \\ndate: 13/02/2018')"
   ]
  },
  {
   "cell_type": "code",
   "execution_count": null,
   "metadata": {},
   "outputs": [],
   "source": []
  }
 ],
 "metadata": {
  "kernelspec": {
   "display_name": "Python 3",
   "language": "python",
   "name": "python3"
  },
  "language_info": {
   "codemirror_mode": {
    "name": "ipython",
    "version": 3
   },
   "file_extension": ".py",
   "mimetype": "text/x-python",
   "name": "python",
   "nbconvert_exporter": "python",
   "pygments_lexer": "ipython3",
   "version": "3.6.5"
  }
 },
 "nbformat": 4,
 "nbformat_minor": 2
}
