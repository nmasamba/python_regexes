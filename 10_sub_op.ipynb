{
 "cells": [
  {
   "cell_type": "code",
   "execution_count": 1,
   "metadata": {},
   "outputs": [],
   "source": [
    "\n",
    "import re"
   ]
  },
  {
   "cell_type": "code",
   "execution_count": 2,
   "metadata": {},
   "outputs": [
    {
     "data": {
      "text/plain": [
       "'init-- init-- init--'"
      ]
     },
     "execution_count": 2,
     "metadata": {},
     "output_type": "execute_result"
    }
   ],
   "source": [
    "\n",
    "# the sub operation substitutes the matched pattern with a replacement pattern\n",
    "# if no match is found, the original string is returned\n",
    "# for example, to replace the digits in the string with --\n",
    "pattern = re.compile(r'[0-9]+')\n",
    "pattern.sub('--', 'init1 init2 init3')"
   ]
  },
  {
   "cell_type": "code",
   "execution_count": 3,
   "metadata": {},
   "outputs": [],
   "source": [
    "\n",
    "# the replacement argument can also be a function\n",
    "# e.g. replace - with A, and replace A with B in the following numbers\n",
    "# -1234, A193, B123, C144\n",
    "\n",
    "def normaliser(match_obj):\n",
    "    if match_obj.group(1) == '-': \n",
    "        return 'A'\n",
    "    else:\n",
    "        return 'B'"
   ]
  },
  {
   "cell_type": "code",
   "execution_count": 4,
   "metadata": {},
   "outputs": [
    {
     "data": {
      "text/plain": [
       "'A1234,BB193,BB123,BB144'"
      ]
     },
     "execution_count": 4,
     "metadata": {},
     "output_type": "execute_result"
    }
   ],
   "source": [
    "\n",
    "pattern = re.compile(r'([- | A-Z])')\n",
    "pattern.sub(normaliser, '-1234, A193, B123, C144')"
   ]
  },
  {
   "cell_type": "code",
   "execution_count": null,
   "metadata": {},
   "outputs": [],
   "source": [
    "\n",
    "# a similar op is called expand"
   ]
  }
 ],
 "metadata": {
  "kernelspec": {
   "display_name": "Python 3",
   "language": "python",
   "name": "python3"
  },
  "language_info": {
   "codemirror_mode": {
    "name": "ipython",
    "version": 3
   },
   "file_extension": ".py",
   "mimetype": "text/x-python",
   "name": "python",
   "nbconvert_exporter": "python",
   "pygments_lexer": "ipython3",
   "version": "3.6.5"
  }
 },
 "nbformat": 4,
 "nbformat_minor": 2
}
