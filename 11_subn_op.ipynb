{
 "cells": [
  {
   "cell_type": "code",
   "execution_count": 1,
   "metadata": {},
   "outputs": [],
   "source": [
    "\n",
    "import re"
   ]
  },
  {
   "cell_type": "code",
   "execution_count": 2,
   "metadata": {},
   "outputs": [],
   "source": [
    "\n",
    "# subn is similar to sub but with extra utility\n",
    "# instead of just returning a tuple with substitions made, ...\n",
    "# it also returns a digit saying how many substitutions were made\n",
    "# to compare the two, we'll use them both below"
   ]
  },
  {
   "cell_type": "code",
   "execution_count": 8,
   "metadata": {},
   "outputs": [
    {
     "data": {
      "text/plain": [
       "'imagine a <b>magic<\\\\b> world, unlike <b>anything<\\\\b> seen before'"
      ]
     },
     "execution_count": 8,
     "metadata": {},
     "output_type": "execute_result"
    }
   ],
   "source": [
    "\n",
    "text = \"imagine a *magic* world, unlike *anything* seen before\"\n",
    "pattern = re.compile(r'\\*(.*?)\\*')\n",
    "pattern.sub(r'<b>\\g<1><\\\\b>', text)"
   ]
  },
  {
   "cell_type": "code",
   "execution_count": 9,
   "metadata": {},
   "outputs": [
    {
     "data": {
      "text/plain": [
       "('imagine a <b>magic<\\\\b> world, unlike <b>anything<\\\\b> seen before', 2)"
      ]
     },
     "execution_count": 9,
     "metadata": {},
     "output_type": "execute_result"
    }
   ],
   "source": [
    "\n",
    "text = \"imagine a *magic* world, unlike *anything* seen before\"\n",
    "pattern = re.compile(r'\\*(.*?)\\*')\n",
    "pattern.subn(r'<b>\\g<1><\\\\b>', text)"
   ]
  },
  {
   "cell_type": "code",
   "execution_count": null,
   "metadata": {},
   "outputs": [],
   "source": []
  }
 ],
 "metadata": {
  "kernelspec": {
   "display_name": "Python 3",
   "language": "python",
   "name": "python3"
  },
  "language_info": {
   "codemirror_mode": {
    "name": "ipython",
    "version": 3
   },
   "file_extension": ".py",
   "mimetype": "text/x-python",
   "name": "python",
   "nbconvert_exporter": "python",
   "pygments_lexer": "ipython3",
   "version": "3.6.5"
  }
 },
 "nbformat": 4,
 "nbformat_minor": 2
}
