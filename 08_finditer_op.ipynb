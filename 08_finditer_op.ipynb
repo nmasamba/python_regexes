{
 "cells": [
  {
   "cell_type": "code",
   "execution_count": 1,
   "metadata": {},
   "outputs": [],
   "source": [
    "\n",
    "import re"
   ]
  },
  {
   "cell_type": "code",
   "execution_count": 2,
   "metadata": {},
   "outputs": [
    {
     "name": "stdout",
     "output_type": "stream",
     "text": [
      "('hello', 'there') (0, 11)\n",
      "('wacky', 'world') (12, 23)\n"
     ]
    }
   ],
   "source": [
    "\n",
    "# the finditer op is essentially the same as findall\n",
    "# however this one returns an iterator in which each element is a MatchObject\n",
    "pattern = re.compile(r'(\\w+) (\\w+)')\n",
    "iterable_obj = pattern.finditer('hello there wacky world!')\n",
    "\n",
    "# to prove that iterable_obj is an iterator containing all the matches, we iterate through it to get MatchObject\n",
    "# we can also get the positions of the captured groups in the pattern\n",
    "for match in iterable_obj:\n",
    "    print(match.groups(), match.span())"
   ]
  },
  {
   "cell_type": "code",
   "execution_count": null,
   "metadata": {},
   "outputs": [],
   "source": []
  },
  {
   "cell_type": "code",
   "execution_count": null,
   "metadata": {},
   "outputs": [],
   "source": []
  }
 ],
 "metadata": {
  "kernelspec": {
   "display_name": "Python 3",
   "language": "python",
   "name": "python3"
  },
  "language_info": {
   "codemirror_mode": {
    "name": "ipython",
    "version": 3
   },
   "file_extension": ".py",
   "mimetype": "text/x-python",
   "name": "python",
   "nbconvert_exporter": "python",
   "pygments_lexer": "ipython3",
   "version": "3.6.5"
  }
 },
 "nbformat": 4,
 "nbformat_minor": 2
}
