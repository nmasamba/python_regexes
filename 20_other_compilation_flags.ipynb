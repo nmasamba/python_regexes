{
 "cells": [
  {
   "cell_type": "code",
   "execution_count": null,
   "metadata": {},
   "outputs": [],
   "source": [
    "\n",
    "# re. LOCALE or re.L - makes special characters such as \\w, \\W, \\b, \\B, \\s and \\S dependent on the current locale.\n",
    "\n",
    "# re.UNICODE or re.U - makes special characters dependent on the Unicode character properties database.\n",
    "\n",
    "# re.VERBOSE or re.X - allows writing of regexes that are easier to read and understand.\n",
    "\n",
    "# re.DEBUG - gives information about the compilation pattern. "
   ]
  }
 ],
 "metadata": {
  "kernelspec": {
   "display_name": "Python 3",
   "language": "python",
   "name": "python3"
  },
  "language_info": {
   "codemirror_mode": {
    "name": "ipython",
    "version": 3
   },
   "file_extension": ".py",
   "mimetype": "text/x-python",
   "name": "python",
   "nbconvert_exporter": "python",
   "pygments_lexer": "ipython3",
   "version": "3.6.5"
  }
 },
 "nbformat": 4,
 "nbformat_minor": 2
}
